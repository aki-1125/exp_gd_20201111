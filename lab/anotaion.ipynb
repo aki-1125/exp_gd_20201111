{
 "cells": [
  {
   "cell_type": "code",
   "execution_count": 1,
   "metadata": {},
   "outputs": [],
   "source": [
    "import pandas as pd\n",
    "import numpy as np"
   ]
  },
  {
   "cell_type": "code",
   "execution_count": 2,
   "metadata": {},
   "outputs": [],
   "source": [
    "data = pd.read_csv('anotation/20201111_anotation_auto.csv', names=['user','1','start_time','finish_time','anotation'])"
   ]
  },
  {
   "cell_type": "code",
   "execution_count": 3,
   "metadata": {},
   "outputs": [],
   "source": [
    "data = data.drop('1', axis=1)\n",
    "# data"
   ]
  },
  {
   "cell_type": "code",
   "execution_count": 4,
   "metadata": {},
   "outputs": [],
   "source": [
    "data = data.fillna('null')"
   ]
  },
  {
   "cell_type": "code",
   "execution_count": 5,
   "metadata": {},
   "outputs": [],
   "source": [
    "speak = data.query('user.str.contains(\"発話者\")', engine='python')\n",
    "data_A = data.query('user.str.contains(\"A\")', engine='python')\n",
    "data_B = data.query('user.str.contains(\"B\")', engine='python')\n",
    "data_C = data.query('user.str.contains(\"C\")', engine='python')\n",
    "data_D = data.query('user.str.contains(\"D\")', engine='python')"
   ]
  },
  {
   "cell_type": "code",
   "execution_count": 6,
   "metadata": {},
   "outputs": [],
   "source": [
    "speaker = speak.loc[:,['anotation']]\n",
    "speaker = speaker.rename(columns={'anotation': 'speaker'})"
   ]
  },
  {
   "cell_type": "code",
   "execution_count": 7,
   "metadata": {},
   "outputs": [],
   "source": [
    "speaker = speaker.reset_index(drop=True)\n",
    "data_A = data_A.reset_index(drop=True)\n",
    "data_B = data_B.reset_index(drop=True)\n",
    "data_C = data_C.reset_index(drop=True)\n",
    "data_D = data_D.reset_index(drop=True)"
   ]
  },
  {
   "cell_type": "code",
   "execution_count": 8,
   "metadata": {},
   "outputs": [],
   "source": [
    "users = ['A', 'B', 'C', 'D']\n",
    "for user in users:\n",
    "    exec(f\"data_{user} = pd.concat([data_{user}, speaker], axis=1)\")"
   ]
  },
  {
   "cell_type": "code",
   "execution_count": 12,
   "metadata": {},
   "outputs": [
    {
     "name": "stdout",
     "output_type": "stream",
     "text": [
      "ユーザー名\n"
     ]
    },
    {
     "name": "stdin",
     "output_type": "stream",
     "text": [
      " D\n"
     ]
    },
    {
     "name": "stdout",
     "output_type": "stream",
     "text": [
      "発話者\n"
     ]
    },
    {
     "name": "stdin",
     "output_type": "stream",
     "text": [
      " \n"
     ]
    }
   ],
   "source": [
    "#キーボードからの入力で欲しいデータを抽出する\n",
    "print(\"ユーザー名\")\n",
    "kuser = input()\n",
    "# print(\"発話開始時間\")\n",
    "# kstart_time = input()\n",
    "# print(\"発話終了時間\")\n",
    "# kfinish_time = input()\n",
    "# print(\"アノテーションレベル\")\n",
    "# kanotation = input()\n",
    "print(\"発話者\")\n",
    "kspeaker = input()"
   ]
  },
  {
   "cell_type": "code",
   "execution_count": 13,
   "metadata": {},
   "outputs": [
    {
     "name": "stdout",
     "output_type": "stream",
     "text": [
      "    user    start_time   finish_time anotation speaker\n",
      "0      D  00:00:00.000  00:00:02.620      null    null\n",
      "1      D  00:00:02.620  00:00:02.760      null    null\n",
      "2      D  00:00:02.760  00:00:03.200      null    null\n",
      "3      D  00:00:03.200  00:00:03.300      null    null\n",
      "4      D  00:00:03.300  00:00:04.420      null    null\n",
      "..   ...           ...           ...       ...     ...\n",
      "806    D  00:20:51.600  00:20:52.000      null    null\n",
      "807    D  00:20:52.000  00:20:52.060      null    null\n",
      "808    D  00:20:52.060  00:20:55.320      null    null\n",
      "809    D  00:20:55.320  00:20:55.460      null    null\n",
      "810    D  00:20:55.460  00:20:57.200      null    null\n",
      "\n",
      "[811 rows x 5 columns]\n"
     ]
    }
   ],
   "source": [
    "if kuser == \"A\":\n",
    "    if kspeaker == 'B':\n",
    "        print(data_A[data_A['speaker'].str.contains('B')])\n",
    "    elif kspeaker == 'C':\n",
    "        print(data_A[data_A['speaker'].str.contains('C')])\n",
    "    elif kspeaker == 'D':\n",
    "        print(data_A[data_A['speaker'].str.contains('D')])\n",
    "    else:\n",
    "        print(data_A)\n",
    "elif kuser == \"B\":\n",
    "    if kspeaker == 'A':\n",
    "        print(data_B[data_B['speaker'].str.contains('A')])\n",
    "    elif kspeaker == 'C':\n",
    "        print(data_B[data_B['speaker'].str.contains('C')])\n",
    "    elif kspeaker == 'D':\n",
    "        print(data_B[data_B['speaker'].str.contains('D')])\n",
    "    else:\n",
    "        print(data_B)\n",
    "elif kuser == \"C\":\n",
    "    if kspeaker == 'A':\n",
    "        print(data_C[data_C['speaker'].str.contains('A')])\n",
    "    elif kspeaker == 'B':\n",
    "        print(data_C[data_C['speaker'].str.contains('B')])\n",
    "    elif kspeaker == 'D':\n",
    "        print(data_C[data_C['speaker'].str.contains('D')])\n",
    "    else:\n",
    "        print(data_C)\n",
    "elif kuser == \"D\":\n",
    "    if kspeaker == 'A':\n",
    "        print(data_D[data_D['speaker'].str.contains('A')])\n",
    "    elif kspeaker == 'B':\n",
    "        print(data_D[data_D['speaker'].str.contains('B')])\n",
    "    elif kspeaker == 'C':\n",
    "        print(data_D[data_D['speaker'].str.contains('C')])\n",
    "    else:\n",
    "        print(data_D)\n",
    "else:\n",
    "    print(\"値が不正です\")"
   ]
  },
  {
   "cell_type": "code",
   "execution_count": null,
   "metadata": {},
   "outputs": [],
   "source": []
  }
 ],
 "metadata": {
  "kernelspec": {
   "display_name": "Python 3",
   "language": "python",
   "name": "python3"
  },
  "language_info": {
   "codemirror_mode": {
    "name": "ipython",
    "version": 3
   },
   "file_extension": ".py",
   "mimetype": "text/x-python",
   "name": "python",
   "nbconvert_exporter": "python",
   "pygments_lexer": "ipython3",
   "version": "3.7.6"
  }
 },
 "nbformat": 4,
 "nbformat_minor": 4
}
